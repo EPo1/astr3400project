{
 "cells": [
  {
   "cell_type": "code",
   "execution_count": 2,
   "id": "689780fb-21ae-4c59-b49a-381b082959a9",
   "metadata": {},
   "outputs": [
    {
     "data": {
      "text/plain": [
       "\"\\nlook at star tests in MESA website\\nuse hydrocode for supernova or core collapse, MESA uses hydro equil so no core collapse\\nlook at binary tests in MESA website\\nls shows menu \\nls /opt/mesa/mesa-r23.05.1/star/test_suite\\ncould also do binary\\nmaybe use mdot\\ncd 7M_prems......./\\n./mk make\\n./rn run\\nstar core temp around 10^7\\ncan look at chemical compositions in center of star\\ncat inlist gives what some inlists do like (cat shows all text of a file)\\ncat inlist_7M_..... this is useful for initial mass changes with nano ~/.bashrc\\nmass and radius in solar units and everything else in cgs units\\n    how mass accretion affects the heat transfer on heat transfer zones in a star\\nSun metalicity near Z = 0.02\\nZ affects blue or red suprgiants\\nchange profile_interval for when you get profile data files (in terms of steps)\\ngrep 'initial_ass' inlis* used to find where this is mentioned\\nprofilXX.data at a certain point in time, full star info\\nhistory.data time series information about the entire calculation (useful for plotting something against time)\\nms.bulk_names useful to see all variable names can google mesa and variable name for documentation\\ncould also plot triple alpha energy generation rate (along with pp cno)\\ngit clone \\n\\nMAY BE USEFUL:\\n\\nevolve_both_stars\\nTests MESA evolving two stars simultaneously including mass transfer.\\n\\nstar_plus_point_mass\\nTests MESA evolving one star plus a point mass, including mass transfer to the point mass.\\n\\nstar_plus_point_mass_explicit_mdot\\nSame as above, but run using an explicit calculation for the mass transfer rate\\n\""
      ]
     },
     "execution_count": 2,
     "metadata": {},
     "output_type": "execute_result"
    }
   ],
   "source": [
    "%matplotlib inline\n",
    "from astropy.io import fits\n",
    "import numpy as np\n",
    "import copy\n",
    "import matplotlib.pyplot as plt\n",
    "#import constants as pc\n",
    "\n",
    "'''\n",
    "look at star tests in MESA website\n",
    "use hydrocode for supernova or core collapse, MESA uses hydro equil so no core collapse\n",
    "look at binary tests in MESA website\n",
    "ls shows menu \n",
    "ls /opt/mesa/mesa-r23.05.1/star/test_suite\n",
    "could also do binary\n",
    "maybe use mdot\n",
    "cd 7M_prems......./\n",
    "./mk make\n",
    "./rn run\n",
    "star core temp around 10^7\n",
    "can look at chemical compositions in center of star\n",
    "cat inlist gives what some inlists do like (cat shows all text of a file)\n",
    "cat inlist_7M_..... this is useful for initial mass changes with nano ~/.bashrc\n",
    "mass and radius in solar units and everything else in cgs units\n",
    "    how mass accretion affects the heat transfer on heat transfer zones in a star\n",
    "Sun metalicity near Z = 0.02\n",
    "Z affects blue or red suprgiants\n",
    "change profile_interval for when you get profile data files (in terms of steps)\n",
    "grep 'initial_ass' inlis* used to find where this is mentioned\n",
    "profilXX.data at a certain point in time, full star info\n",
    "history.data time series information about the entire calculation (useful for plotting something against time)\n",
    "ms.bulk_names useful to see all variable names can google mesa and variable name for documentation\n",
    "could also plot triple alpha energy generation rate (along with pp cno)\n",
    "git clone \n",
    "\n",
    "MAY BE USEFUL:\n",
    "\n",
    "evolve_both_stars\n",
    "Tests MESA evolving two stars simultaneously including mass transfer.\n",
    "\n",
    "star_plus_point_mass\n",
    "Tests MESA evolving one star plus a point mass, including mass transfer to the point mass.\n",
    "\n",
    "star_plus_point_mass_explicit_mdot\n",
    "Same as above, but run using an explicit calculation for the mass transfer rate\n",
    "'''"
   ]
  },
  {
   "cell_type": "code",
   "execution_count": null,
   "id": "94a79d4e-3a48-4984-a7c6-1460c2c36a3f",
   "metadata": {},
   "outputs": [],
   "source": []
  }
 ],
 "metadata": {
  "kernelspec": {
   "display_name": "Python 3 (ipykernel)",
   "language": "python",
   "name": "python3"
  },
  "language_info": {
   "codemirror_mode": {
    "name": "ipython",
    "version": 3
   },
   "file_extension": ".py",
   "mimetype": "text/x-python",
   "name": "python",
   "nbconvert_exporter": "python",
   "pygments_lexer": "ipython3",
   "version": "3.9.15"
  }
 },
 "nbformat": 4,
 "nbformat_minor": 5
}
